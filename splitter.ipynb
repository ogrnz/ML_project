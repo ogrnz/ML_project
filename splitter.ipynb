{
 "cells": [
  {
   "cell_type": "code",
   "execution_count": 1,
   "id": "498bae5e",
   "metadata": {},
   "outputs": [],
   "source": [
    "import pandas as pd\n",
    "import numpy as np"
   ]
  },
  {
   "cell_type": "code",
   "execution_count": 14,
   "id": "d59b930f",
   "metadata": {},
   "outputs": [
    {
     "data": {
      "text/plain": [
       "1280000"
      ]
     },
     "execution_count": 14,
     "metadata": {},
     "output_type": "execute_result"
    }
   ],
   "source": [
    "#Split file into mini batches\n",
    "df = pd.read_csv(\"data/MLUnige2021_train.csv\")\n",
    "len(df)"
   ]
  },
  {
   "cell_type": "code",
   "execution_count": 12,
   "id": "3c9e4906",
   "metadata": {},
   "outputs": [
    {
     "name": "stdout",
     "output_type": "stream",
     "text": [
      "16 batches\n"
     ]
    }
   ],
   "source": [
    "rows = df.shape[0]\n",
    "size = 80_000\n",
    "n_batch = rows // size\n",
    "rest = rows % size\n",
    "\n",
    "dfs = []\n",
    "for i in range(n_batch):\n",
    "    if i+1 == n_batch:\n",
    "        #Last iteration\n",
    "        batch = df[i * size : (i+1) * size + rest]\n",
    "    else:\n",
    "        batch = df[i * size : (i+1) * size]\n",
    "    dfs.append(batch)\n",
    "\n",
    "print(len(dfs), \"batches\")"
   ]
  },
  {
   "cell_type": "code",
   "execution_count": 13,
   "id": "9a1ba548",
   "metadata": {},
   "outputs": [],
   "source": [
    "for i, df_s in enumerate(dfs, start=1):\n",
    "    df_s.to_csv(f\"data/{i}_split.csv\", index=False)"
   ]
  }
 ],
 "metadata": {
  "kernelspec": {
   "display_name": "Python 3",
   "language": "python",
   "name": "python3"
  },
  "language_info": {
   "codemirror_mode": {
    "name": "ipython",
    "version": 3
   },
   "file_extension": ".py",
   "mimetype": "text/x-python",
   "name": "python",
   "nbconvert_exporter": "python",
   "pygments_lexer": "ipython3",
   "version": "3.7.10"
  }
 },
 "nbformat": 4,
 "nbformat_minor": 5
}
